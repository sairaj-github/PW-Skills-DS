{
 "cells": [
  {
   "cell_type": "markdown",
   "metadata": {},
   "source": [
    "Q1. what is statistics?\n",
    "\n",
    "Statistics is the science of collecting, analyzing, interpreting, and presenting data. It is a branch of mathematics that deals with the collection, analysis, interpretation, presentation, and organization of data. Statistics is used in a wide variety of fields, including business, government, science, and social science."
   ]
  },
  {
   "cell_type": "markdown",
   "metadata": {},
   "source": [
    "Q2. Define the different types of statistics and give an example of when each type might be used.\n",
    "\n",
    "- Descriptive statistics are used to summarize data and describe the population. They are used to answer questions like \"What is the average height of adult males in the United States?\" or \"What is the most popular color of car in the world?\" Descriptive statistics can be used to make inferences about the population, but they are not as reliable as inferential statistics.\n",
    "- - Describe the results of a survey\n",
    "- - Summarize the data from a scientific experiment\n",
    "- - Create a report on the demographics of a population\n",
    "\n",
    "- Inferential statistics are used to make inferences about the population based on a sample. They are used to answer questions like \"If we randomly sample 100 adult males in the United States, what is the probability that the average height will be between 5'9\" and 5'11\"? or \"What is the probability that the most popular color of car in the world is blue?\" Inferential statistics are more reliable than descriptive statistics, but they require a larger sample size.\n",
    "- - Test a hypothesis\n",
    "- - Make predictions about the future\n",
    "- - Compare two or more groups"
   ]
  },
  {
   "cell_type": "markdown",
   "metadata": {},
   "source": [
    "Q3. What are the different types of data and how do they differ from each other? Provide an example of\n",
    "each type of data.\n",
    "\n",
    "- Quantitative data is data that can be measured or counted. It is often represented by numbers. Examples of quantitative data include height, weight, age, income, and test scores.\n",
    "- Qualitative data is data that cannot be measured or counted. It is often represented by words, symbols, or images. Examples of qualitative data include gender, eye color, hair color, and favorite color.\n",
    "\n",
    "Quantitative data can be further classified into two types: discrete and continuous.\n",
    "\n",
    "- Discrete data is data that can only take on a finite number of values. Examples of discrete data include the number of students in a class, the number of cars in a parking lot, and the number of times a coin lands on heads.\n",
    "- Continuous data is data that can take on any value within a given range. Examples of continuous data include height, weight, temperature, and time.\n",
    "\n",
    "Qualitative data can also be further classified into two types: nominal and ordinal.\n",
    "\n",
    "- Nominal data is data that is used to classify or label things. It does not have any inherent order. Examples of nominal data include gender, eye color, and hair color.\n",
    "- Ordinal data is data that has a natural order. However, the difference between two values in ordinal data is not always meaningful. Examples of ordinal data include the ranking of athletes in a competition, the grades on a test, and the severity of a disease."
   ]
  },
  {
   "cell_type": "markdown",
   "metadata": {},
   "source": [
    "Q4. Categorise the following datasets with respect to quantitative and qualitative data types:\n",
    "(i) Grading in exam: A+, A, B+, B, C+, C, D, E\n",
    "(ii) Colour of mangoes: yellow, green, orange, red\n",
    "(iii) Height data of a class: [178.9, 179, 179.5, 176, 177.2, 178.3, 175.8,...]\n",
    "(iv) Number of mangoes exported by a farm: [500, 600, 478, 672, ...]\n",
    "\n",
    "Ans:\n",
    "(i) and (ii) are qualitative data\n",
    "(iii) and (iv) are quantitative data"
   ]
  },
  {
   "cell_type": "markdown",
   "metadata": {},
   "source": [
    "Q5. Explain the concept of levels of measurement and give an example of a variable for each level.\n",
    "\n",
    "- Nominal level of measurement: This is the lowest level of measurement. Nominal data is used to classify or label things. It does not have any inherent order. For example, the variable \"gender\" is nominal because it can be used to classify people as male or female.\n",
    "- Ordinal level of measurement: This level of measurement has a natural order. However, the difference between two values in ordinal data is not always meaningful. For example, the variable \"grade on a test\" is ordinal because it has a natural order (A is better than B, which is better than C, etc.), but the difference between an A and a B is not always the same as the difference between a B and a C."
   ]
  },
  {
   "cell_type": "markdown",
   "metadata": {},
   "source": [
    "Q6. Why is it important to understand the level of measurement when analyzing data? Provide an\n",
    "example to illustrate your answer.\n",
    "\n",
    "- Suppose you want to analyze the data from a survey that asked people to rate their satisfaction with their current job on a scale of 1 to 5, with 1 being very dissatisfied and 5 being very satisfied.\n",
    "\n",
    "- The level of measurement for this variable is ordinal because the data has a natural order (higher ratings indicate greater satisfaction). However, the difference between two ratings is not always meaningful (a rating of 2 is not necessarily twice as good as a rating of 1).\n",
    "\n",
    "- If you want to compare the average satisfaction levels of two different groups of people, you can use a t-test. However, if you want to see how much satisfaction has changed over time, you cannot use a t-test because the data is not interval or ratio."
   ]
  },
  {
   "cell_type": "markdown",
   "metadata": {},
   "source": [
    "Q7. How nominal data type is different from ordinal data type.\n",
    "\n",
    "Nominal data is used to classify or label things. It does not have any inherent order. For example, the variable \"gender\" is nominal because it can be used to classify people as male or female. There is no natural order to gender, so it is not meaningful to say that male is \"greater than\" female or vice versa.\n",
    "\n",
    "Ordinal data has a natural order, but the difference between two values is not always meaningful. For example, the variable \"grade on a test\" is ordinal because it has a natural order (A is better than B, which is better than C, etc.), but the difference between an A and a B is not always the same as the difference between a B and a C."
   ]
  },
  {
   "cell_type": "markdown",
   "metadata": {},
   "source": [
    "Q8. Which type of plot can be used to display data in terms of range?\n",
    "\n",
    "Box plot: A box plot is a graphical representation of the distribution of data. It shows the minimum, first quartile (Q1), median, third quartile (Q3), and maximum values of the data. The interquartile range (IQR) is the distance between Q1 and Q3. The range is the distance between the minimum and maximum values.\n",
    "\n",
    "Histogram: A histogram is a graphical representation of the frequency distribution of data. It shows the number of data points that fall within each range of values.\n",
    "\n",
    "Scatter plot: A scatter plot is a graphical representation of the relationship between two variables. It shows the points on a graph where each data point is represented by a dot. The range of each variable can be seen by looking at the minimum and maximum values of the points on the graph."
   ]
  },
  {
   "cell_type": "markdown",
   "metadata": {},
   "source": [
    "Q9. Describe the difference between descriptive and inferential statistics. Give an example of each\n",
    "type of statistics and explain how they are used.\n",
    "\n",
    "- Descriptive statistics:\n",
    "The average height of adult males in the United States is 5'10\".\n",
    "The most popular color of car in the world is blue.\n",
    "The distribution of income in the United States is skewed to the right.\n",
    "\n",
    "- Inferential statistics:\n",
    "If we randomly sample 100 adult males in the United States, there is a 95% probability that the average height will be between 5'9\" and 5'11\".\n",
    "There is a 70% probability that the most popular color of car in the world is blue.\n",
    "There is a 50% probability that a randomly selected person in the United States makes more than $50,000 per year."
   ]
  },
  {
   "cell_type": "markdown",
   "metadata": {},
   "source": [
    "Q10. What are some common measures of central tendency and variability used in statistics? Explain\n",
    "how each measure can be used to describe a dataset.\n",
    "\n",
    "Measures of central tendency\n",
    "\n",
    "- Mean: The mean is the average of all the data points in a dataset. It is calculated by adding all the data points and dividing by the number of data points.\n",
    "- Median: The median is the middle value of a dataset when all the data points are ranked from least to greatest. If there is an even number of data points, the median is the average of the two middle values.\n",
    "- Mode: The mode is the most frequent value in a dataset.\n",
    "\n",
    "Measures of variability\n",
    "\n",
    "- Range: The range is the difference between the smallest and largest values in a dataset.\n",
    "- Interquartile range (IQR): The IQR is the difference between the third quartile (Q3) and the first quartile (Q1). It is a measure of the middle 50% of the data.\n",
    "- Variance: The variance is a measure of how spread out the data is. It is calculated by taking the average of the squared deviations from the mean.\n",
    "- Standard deviation: The standard deviation is the square root of the variance. It is a measure of how spread out the data is in terms of the number of standard deviations away from the mean."
   ]
  }
 ],
 "metadata": {
  "language_info": {
   "name": "python"
  },
  "orig_nbformat": 4
 },
 "nbformat": 4,
 "nbformat_minor": 2
}
