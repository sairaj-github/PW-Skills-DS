{
 "cells": [
  {
   "cell_type": "markdown",
   "metadata": {},
   "source": [
    "Q1: Explain the following with an example\n",
    "1. Artificial Intelligence\n",
    "2. Machine Learning\n",
    "3. Deep Learning\n",
    "\n",
    "Ans:-\n",
    "- Artificial intelligence (AI) is a broad term that refers to the ability of machines to perform tasks that are typically associated with human intelligence, such as learning, problem-solving, and decision-making. for example Virtual assistants like Siri, Alexa, and Google Assistant use AI to understand your voice commands and respond accordingly.\n",
    "- Machine learning (ML) is a subset of AI that allows machines to learn without being explicitly programmed. ML algorithms are trained on data, and they can then use that data to make predictions or decisions. for example Spam filters use ML to learn which emails are likely to be spam and which are not.\n",
    "- Deep learning (DL) is a subset of ML that uses artificial neural networks to learn from data. Neural networks are inspired by the human brain, and they can be used to learn complex patterns in data. for example Self-driving cars use DL to learn how to navigate the road and avoid obstacles."
   ]
  },
  {
   "cell_type": "markdown",
   "metadata": {},
   "source": [
    "Q2: what is supervised learning? list some example of supervised learning.\n",
    "\n",
    "Ans:-\n",
    "\n",
    "Supervised learning is a type of machine learning where the model is trained on labeled data. This means that the data has been pre-classified, so the model knows what the correct output should be for each input. Supervised learning is often used for tasks such as classification and regression.\n",
    "\n",
    "examples of supervised learning:\n",
    "\n",
    "Fraud detection: This is the task of identifying fraudulent transactions. A supervised learning algorithm could be trained on a dataset of transactions that have been labeled as fraudulent or legitimate. Once the algorithm is trained, it can be used to identify new fraudulent transactions.\n",
    "\n",
    "Recommendation systems: These systems recommend products or services to users based on their past behavior. A supervised learning algorithm could be trained on a dataset of user ratings for products or services. Once the algorithm is trained, it can be used to recommend new products or services to users."
   ]
  },
  {
   "cell_type": "markdown",
   "metadata": {},
   "source": [
    "Q3: what is unsupervised learning? list some example of unsupervised learning.\n",
    "\n",
    "Ans:-\n",
    "\n",
    "Unsupervised learning is a type of machine learning where the model is trained on unlabeled data. This means that the data has not been pre-classified, so the model has to learn to find patterns in the data on its own. Unsupervised learning is often used for tasks such as clustering, dimensionality reduction, and anomaly detection.\n",
    "\n",
    "examples of unsupervised learning:\n",
    "\n",
    "Clustering: This is the task of grouping data points together based on their similarities. For example, a clustering algorithm could be used to group customer data together based on their purchase history.\n",
    "\n",
    "Anomaly detection: This is the task of identifying data points that are significantly different from the rest of the data. For example, an anomaly detection algorithm could be used to identify credit card transactions that are likely to be fraudulent."
   ]
  },
  {
   "cell_type": "markdown",
   "metadata": {},
   "source": [
    "Q4: what is the difference between AI, ML, DL and DS\n",
    "\n",
    "Ans:-\n",
    "\n",
    "- Artificial intelligence (AI) is a broad term that refers to the ability of machines to perform tasks that are typically associated with human intelligence, such as learning, problem-solving, and decision-making.\n",
    "- Machine learning (ML) is a subset of AI that allows machines to learn without being explicitly programmed. ML algorithms are trained on data, and they can then use that data to make predictions or decisions.\n",
    "- Deep learning (DL) is a subset of ML that uses artificial neural networks to learn from data. Neural networks are inspired by the human brain, and they can be used to learn complex patterns in data.\n",
    "- Data science (DS) is a field that encompasses the collection, analysis, and interpretation of data. DS professionals use a variety of tools and techniques to extract insights from data, and they often use ML and DL algorithms to do so."
   ]
  },
  {
   "cell_type": "markdown",
   "metadata": {},
   "source": [
    "Q5: what are the main difference between supervised, unsupervised and semi-supervised learning\n",
    "\n",
    "Ans:-\n",
    "\n",
    "- supervised learning: The model is trained on labeled data. This means that the data has been pre-classified, so the model knows what the correct output should be for each input.\n",
    "- unsu;pervised learning: The model is trained on unlabeled data. This means that the data has not been pre-classified, so the model has to learn to find patterns in the data on its own.\n",
    "- semi-supervised learning: The model is trained on a combination of labeled and unlabeled data. This means that the model has some prior knowledge about the data, but it still has to learn to find patterns in the unlabeled data."
   ]
  },
  {
   "cell_type": "markdown",
   "metadata": {},
   "source": [
    "Q6: What is train, test and validation split? Explain the importance of each term.\n",
    "\n",
    "Ans:-\n",
    "\n",
    "- Training set: The training set is the most important part of the dataset. It is used to train the model, and the model's performance is only as good as the training set. The training set should be representative of the data that the model will be used on in the real world.\n",
    "- Validation set: The validation set is used to evaluate the model's performance. The model is not fine-tuned on the validation set, but it is used to see how well the model is performing on data that it has not seen before. The validation set helps to prevent the model from overfitting the training set.\n",
    "- Test set: The test set is used to assess the model's generalization ability. The test set is not used to train or tune the model, but it is used to see how well the model performs on data that it has never seen before. The test set gives an unbiased estimate of the model's performance."
   ]
  },
  {
   "cell_type": "markdown",
   "metadata": {},
   "source": [
    "Q7 how can supervised learning be used in anamoly detection\n",
    "\n",
    "Ans:\n",
    "\n",
    "- Fraud detection: Unsupervised anomaly detection can be used to identify fraudulent transactions in financial data. For example, an algorithm could be trained to identify transactions that are significantly larger or smaller than the average transaction.\n",
    "- Network intrusion detection: Unsupervised anomaly detection can be used to identify malicious activity in network traffic. For example, an algorithm could be trained to identify traffic that is significantly different from the normal traffic patterns.\n",
    "- Machine health monitoring: Unsupervised anomaly detection can be used to identify problems with machines. For example, an algorithm could be trained to identify sensor readings that are significantly different from the normal sensor readings."
   ]
  },
  {
   "cell_type": "markdown",
   "metadata": {},
   "source": [
    "Q8 list down some commonly used supervised and unsupervised learning algorithm\n",
    "\n",
    "Ans:\n",
    "\n",
    "Decision trees: Decision trees are a simple but powerful supervised learning algorithm. They work by recursively splitting the data into smaller and smaller subsets until each subset is homogeneous. Decision trees are often used for classification and regression tasks.\n",
    "\n",
    "Logistic regression: Logistic regression is a supervised learning algorithm that is used for classification tasks. It works by estimating the probability of a data point belonging to a particular class. Logistic regression is a popular algorithm for spam filtering, image classification, and natural language processing tasks.\n",
    "\n",
    "Support vector machines (SVMs): SVMs are a supervised learning algorithm that is used for classification and regression tasks. They work by finding the hyperplane that best separates the data into two or more classes. SVMs are a powerful algorithm that is often used for image classification, natural language processing, and fraud detection tasks.\n",
    "\n",
    "Random forests: Random forests are a supervised learning algorithm that is a combination of decision trees. They work by training multiple decision trees on different subsets of the data and then combining the predictions of the decision trees. Random forests are a powerful algorithm that is often used for classification and regression tasks.\n",
    "\n",
    "Unsupervised learning algorithms\n",
    "\n",
    "K-means clustering: K-means clustering is an unsupervised learning algorithm that is used to cluster data points into groups. It works by iteratively assigning data points to the cluster with the closest mean. K-means clustering is a popular algorithm for market segmentation, image clustering, and customer segmentation tasks.\n",
    "\n",
    "Hierarchical clustering: Hierarchical clustering is an unsupervised learning algorithm that is used to cluster data points into a hierarchy of clusters. It works by iteratively merging clusters that are similar to each other. Hierarchical clustering is a popular algorithm for image clustering, customer segmentation, and gene expression analysis tasks.\n",
    "\n",
    "Apriori algorithm: The Apriori algorithm is an unsupervised learning algorithm that is used to find association rules in data. It works by iteratively finding sets of items that appear together frequently. The Apriori algorithm is a popular algorithm for market basket analysis and fraud detection tasks.\n",
    "\n",
    "Principal component analysis (PCA): PCA is an unsupervised learning algorithm that is used to reduce the dimensionality of data. It works by finding the principal components of the data, which are the directions in which the data varies the most. PCA is a popular algorithm for image compression and feature selection tasks."
   ]
  }
 ],
 "metadata": {
  "language_info": {
   "name": "python"
  },
  "orig_nbformat": 4
 },
 "nbformat": 4,
 "nbformat_minor": 2
}
